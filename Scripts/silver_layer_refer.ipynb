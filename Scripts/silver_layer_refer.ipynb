{
 "cells": [
  {
   "cell_type": "code",
   "execution_count": 25,
   "metadata": {
    "application/vnd.databricks.v1+cell": {
     "cellMetadata": {
      "byteLimit": 2048000,
      "rowLimit": 10000
     },
     "inputWidgets": {},
     "nuid": "7f984aaf-b6c7-4097-bcf7-b467f667e807",
     "showTitle": false,
     "title": ""
    }
   },
   "outputs": [],
   "source": [
    "from pyspark.sql.functions import * \n",
    "from pyspark.sql.types import *\n",
    "from pyspark.sql import SparkSession"
   ]
  },
  {
   "cell_type": "markdown",
   "metadata": {
    "application/vnd.databricks.v1+cell": {
     "cellMetadata": {},
     "inputWidgets": {},
     "nuid": "42b15123-3f56-45b3-b5bb-c9717c6b00fe",
     "showTitle": false,
     "title": ""
    }
   },
   "source": [
    "# SILVER LAYER SCRIPT"
   ]
  },
  {
   "cell_type": "markdown",
   "metadata": {
    "application/vnd.databricks.v1+cell": {
     "cellMetadata": {},
     "inputWidgets": {},
     "nuid": "47537754-b105-4307-9e3b-c58c464f7c24",
     "showTitle": false,
     "title": ""
    }
   },
   "source": [
    "### DATA ACCESS USING APP"
   ]
  },
  {
   "cell_type": "markdown",
   "metadata": {
    "application/vnd.databricks.v1+cell": {
     "cellMetadata": {
      "byteLimit": 2048000,
      "rowLimit": 10000
     },
     "inputWidgets": {},
     "nuid": "e8b78eb0-3108-41a4-a324-49bbfc13b380",
     "showTitle": false,
     "title": ""
    }
   },
   "source": [
    "USE your credentials here"
   ]
  },
  {
   "cell_type": "markdown",
   "metadata": {
    "application/vnd.databricks.v1+cell": {
     "cellMetadata": {},
     "inputWidgets": {},
     "nuid": "8cbde7ee-ea23-44b4-b262-50897951c283",
     "showTitle": false,
     "title": ""
    }
   },
   "source": [
    "### DATA LOADING"
   ]
  },
  {
   "cell_type": "markdown",
   "metadata": {
    "application/vnd.databricks.v1+cell": {
     "cellMetadata": {},
     "inputWidgets": {},
     "nuid": "806f6d10-0ea9-47e1-b137-2fba638b8e07",
     "showTitle": false,
     "title": ""
    }
   },
   "source": [
    "#### Reading Data"
   ]
  },
  {
   "cell_type": "code",
   "execution_count": 3,
   "metadata": {
    "application/vnd.databricks.v1+cell": {
     "cellMetadata": {
      "byteLimit": 2048000,
      "rowLimit": 10000
     },
     "inputWidgets": {},
     "nuid": "42d5278d-6bf6-4696-994a-e48babd82433",
     "showTitle": false,
     "title": ""
    }
   },
   "outputs": [],
   "source": [
    " \n",
    "# Import\n",
    "from pyspark.sql import SparkSession\n",
    "\n",
    "# Create SparkSession\n",
    "spark = SparkSession.builder.master(\"local[1]\").appName(\"silver_layer\").getOrCreate()"
   ]
  },
  {
   "cell_type": "code",
   "execution_count": 28,
   "metadata": {},
   "outputs": [
    {
     "name": "stdout",
     "output_type": "stream",
     "text": [
      "root\n",
      " |-- Date: string (nullable = true)\n",
      "\n"
     ]
    }
   ],
   "source": [
    "df_cal = spark.read.csv(\"C:/Users/nedun/Documents/Mona/DE/Projects/AdventureWorks/AdventureWorks_Calendar.csv\", header=True)\n",
    "df_cal.printSchema()"
   ]
  },
  {
   "cell_type": "code",
   "execution_count": 46,
   "metadata": {
    "application/vnd.databricks.v1+cell": {
     "cellMetadata": {
      "byteLimit": 2048000,
      "rowLimit": 10000
     },
     "inputWidgets": {},
     "nuid": "31186f6c-bf6d-4d9e-8d15-c49a30e3ab6e",
     "showTitle": false,
     "title": ""
    }
   },
   "outputs": [
    {
     "name": "stdout",
     "output_type": "stream",
     "text": [
      "root\n",
      " |-- CustomerKey: string (nullable = true)\n",
      " |-- Prefix: string (nullable = true)\n",
      " |-- FirstName: string (nullable = true)\n",
      " |-- LastName: string (nullable = true)\n",
      " |-- BirthDate: string (nullable = true)\n",
      " |-- MaritalStatus: string (nullable = true)\n",
      " |-- Gender: string (nullable = true)\n",
      " |-- EmailAddress: string (nullable = true)\n",
      " |-- AnnualIncome: string (nullable = true)\n",
      " |-- TotalChildren: string (nullable = true)\n",
      " |-- EducationLevel: string (nullable = true)\n",
      " |-- Occupation: string (nullable = true)\n",
      " |-- HomeOwner: string (nullable = true)\n",
      "\n"
     ]
    }
   ],
   "source": [
    "df_cus = spark.read.csv(\"C:/Users/nedun/Documents/Mona/DE/Projects/AdventureWorks/AdventureWorks_Customers.csv\", header=True)\n",
    "df_cus.printSchema()\n",
    "            "
   ]
  },
  {
   "cell_type": "code",
   "execution_count": 74,
   "metadata": {
    "application/vnd.databricks.v1+cell": {
     "cellMetadata": {
      "byteLimit": 2048000,
      "rowLimit": 10000
     },
     "inputWidgets": {},
     "nuid": "0fc528d6-ae89-4b47-9741-b2819ad29242",
     "showTitle": false,
     "title": ""
    }
   },
   "outputs": [
    {
     "name": "stdout",
     "output_type": "stream",
     "text": [
      "root\n",
      " |-- ProductCategoryKey: string (nullable = true)\n",
      " |-- CategoryName: string (nullable = true)\n",
      "\n"
     ]
    }
   ],
   "source": [
    "df_procat = spark.read.csv(\"C:/Users/nedun/Documents/Mona/DE/Projects/AdventureWorks/AdventureWorks_Product_Categories.csv\", header=True)\n",
    "df_procat.printSchema()\n"
   ]
  },
  {
   "cell_type": "code",
   "execution_count": 56,
   "metadata": {
    "application/vnd.databricks.v1+cell": {
     "cellMetadata": {
      "byteLimit": 2048000,
      "rowLimit": 10000
     },
     "inputWidgets": {},
     "nuid": "216e91ce-5ac2-4bb9-bede-049c20cb92f0",
     "showTitle": false,
     "title": ""
    }
   },
   "outputs": [
    {
     "name": "stdout",
     "output_type": "stream",
     "text": [
      "root\n",
      " |-- ProductKey: string (nullable = true)\n",
      " |-- ProductSubcategoryKey: string (nullable = true)\n",
      " |-- ProductSKU: string (nullable = true)\n",
      " |-- ProductName: string (nullable = true)\n",
      " |-- ModelName: string (nullable = true)\n",
      " |-- ProductDescription: string (nullable = true)\n",
      " |-- ProductColor: string (nullable = true)\n",
      " |-- ProductSize: string (nullable = true)\n",
      " |-- ProductStyle: string (nullable = true)\n",
      " |-- ProductCost: string (nullable = true)\n",
      " |-- ProductPrice: string (nullable = true)\n",
      "\n"
     ]
    }
   ],
   "source": [
    "df_pro = spark.read.csv(\"C:/Users/nedun/Documents/Mona/DE/Projects/AdventureWorks/AdventureWorks_Products.csv\", header=True)\n",
    "df_pro.printSchema()\n",
    "\n"
   ]
  },
  {
   "cell_type": "code",
   "execution_count": 60,
   "metadata": {
    "application/vnd.databricks.v1+cell": {
     "cellMetadata": {
      "byteLimit": 2048000,
      "rowLimit": 10000
     },
     "inputWidgets": {},
     "nuid": "3509377f-f676-46bd-b8e7-e1f2c75228c8",
     "showTitle": false,
     "title": ""
    }
   },
   "outputs": [
    {
     "name": "stdout",
     "output_type": "stream",
     "text": [
      "root\n",
      " |-- ReturnDate: string (nullable = true)\n",
      " |-- TerritoryKey: string (nullable = true)\n",
      " |-- ProductKey: string (nullable = true)\n",
      " |-- ReturnQuantity: string (nullable = true)\n",
      "\n"
     ]
    }
   ],
   "source": [
    "df_ret = spark.read.csv(\"C:/Users/nedun/Documents/Mona/DE/Projects/AdventureWorks/AdventureWorks_Returns.csv\", header=True)\n",
    "df_ret.printSchema()\n"
   ]
  },
  {
   "cell_type": "code",
   "execution_count": 62,
   "metadata": {
    "application/vnd.databricks.v1+cell": {
     "cellMetadata": {
      "byteLimit": 2048000,
      "rowLimit": 10000
     },
     "inputWidgets": {},
     "nuid": "3ac5d4ad-b731-4493-8b1e-28419fa2a6ce",
     "showTitle": false,
     "title": ""
    }
   },
   "outputs": [
    {
     "name": "stdout",
     "output_type": "stream",
     "text": [
      "root\n",
      " |-- SalesTerritoryKey: string (nullable = true)\n",
      " |-- Region: string (nullable = true)\n",
      " |-- Country: string (nullable = true)\n",
      " |-- Continent: string (nullable = true)\n",
      "\n"
     ]
    }
   ],
   "source": [
    "df_ter = spark.read.csv(\"C:/Users/nedun/Documents/Mona/DE/Projects/AdventureWorks/AdventureWorks_Territories.csv\", header=True)\n",
    "df_ter.printSchema()\n"
   ]
  },
  {
   "cell_type": "code",
   "execution_count": 53,
   "metadata": {
    "application/vnd.databricks.v1+cell": {
     "cellMetadata": {
      "byteLimit": 2048000,
      "rowLimit": 10000
     },
     "inputWidgets": {},
     "nuid": "49b12fa2-625b-4a49-a839-36cced0a6ba4",
     "showTitle": false,
     "title": ""
    }
   },
   "outputs": [
    {
     "name": "stdout",
     "output_type": "stream",
     "text": [
      "root\n",
      " |-- ProductSubcategoryKey: string (nullable = true)\n",
      " |-- SubcategoryName: string (nullable = true)\n",
      " |-- ProductCategoryKey: string (nullable = true)\n",
      "\n"
     ]
    }
   ],
   "source": [
    "df_subcat = spark.read.csv(\"C:/Users/nedun/Documents/Mona/DE/Projects/AdventureWorks/AdventureWorks_Product_Subcategories.csv\", header=True)\n",
    "df_subcat.printSchema()\n"
   ]
  },
  {
   "cell_type": "code",
   "execution_count": 35,
   "metadata": {},
   "outputs": [
    {
     "name": "stdout",
     "output_type": "stream",
     "text": [
      "root\n",
      " |-- OrderDate: string (nullable = true)\n",
      " |-- StockDate: string (nullable = true)\n",
      " |-- OrderNumber: string (nullable = true)\n",
      " |-- ProductKey: string (nullable = true)\n",
      " |-- CustomerKey: string (nullable = true)\n",
      " |-- TerritoryKey: string (nullable = true)\n",
      " |-- OrderLineItem: string (nullable = true)\n",
      " |-- OrderQuantity: string (nullable = true)\n",
      "\n"
     ]
    }
   ],
   "source": [
    "df_sales2015 = spark.read.csv(\"C:/Users/nedun/Documents/Mona/DE/Projects/AdventureWorks/AdventureWorks_Sales_2015.csv\", header=True)\n",
    "df_sales2015.printSchema()"
   ]
  },
  {
   "cell_type": "code",
   "execution_count": 36,
   "metadata": {},
   "outputs": [
    {
     "name": "stdout",
     "output_type": "stream",
     "text": [
      "root\n",
      " |-- OrderDate: string (nullable = true)\n",
      " |-- StockDate: string (nullable = true)\n",
      " |-- OrderNumber: string (nullable = true)\n",
      " |-- ProductKey: string (nullable = true)\n",
      " |-- CustomerKey: string (nullable = true)\n",
      " |-- TerritoryKey: string (nullable = true)\n",
      " |-- OrderLineItem: string (nullable = true)\n",
      " |-- OrderQuantity: string (nullable = true)\n",
      "\n"
     ]
    }
   ],
   "source": [
    "df_sales2016 = spark.read.csv(\"C:/Users/nedun/Documents/Mona/DE/Projects/AdventureWorks/AdventureWorks_Sales_2016.csv\", header=True)\n",
    "df_sales2016.printSchema()"
   ]
  },
  {
   "cell_type": "code",
   "execution_count": 37,
   "metadata": {},
   "outputs": [
    {
     "name": "stdout",
     "output_type": "stream",
     "text": [
      "root\n",
      " |-- OrderDate: string (nullable = true)\n",
      " |-- StockDate: string (nullable = true)\n",
      " |-- OrderNumber: string (nullable = true)\n",
      " |-- ProductKey: string (nullable = true)\n",
      " |-- CustomerKey: string (nullable = true)\n",
      " |-- TerritoryKey: string (nullable = true)\n",
      " |-- OrderLineItem: string (nullable = true)\n",
      " |-- OrderQuantity: string (nullable = true)\n",
      "\n"
     ]
    }
   ],
   "source": [
    "df_sales2017 = spark.read.csv(\"C:/Users/nedun/Documents/Mona/DE/Projects/AdventureWorks/AdventureWorks_Sales_2017.csv\", header=True)\n",
    "df_sales2017.printSchema()"
   ]
  },
  {
   "cell_type": "markdown",
   "metadata": {
    "application/vnd.databricks.v1+cell": {
     "cellMetadata": {},
     "inputWidgets": {},
     "nuid": "93f98a93-3bb1-4f3e-a45b-1b0ad900c407",
     "showTitle": false,
     "title": ""
    }
   },
   "source": [
    "### TRANSFORMATIONS"
   ]
  },
  {
   "cell_type": "markdown",
   "metadata": {
    "application/vnd.databricks.v1+cell": {
     "cellMetadata": {},
     "inputWidgets": {},
     "nuid": "3e3b2833-dc36-448f-9d40-c03cbd0b7538",
     "showTitle": false,
     "title": ""
    }
   },
   "source": [
    "#### Calendar"
   ]
  },
  {
   "cell_type": "code",
   "execution_count": 43,
   "metadata": {
    "application/vnd.databricks.v1+cell": {
     "cellMetadata": {
      "byteLimit": 2048000,
      "rowLimit": 10000
     },
     "inputWidgets": {},
     "nuid": "990172af-df32-4feb-b0f3-5fc4a474d188",
     "showTitle": false,
     "title": ""
    }
   },
   "outputs": [
    {
     "name": "stdout",
     "output_type": "stream",
     "text": [
      "+--------+-----+----+\n",
      "|    Date|Month|Year|\n",
      "+--------+-----+----+\n",
      "|1/1/2015| null|null|\n",
      "|1/2/2015| null|null|\n",
      "|1/3/2015| null|null|\n",
      "|1/4/2015| null|null|\n",
      "|1/5/2015| null|null|\n",
      "+--------+-----+----+\n",
      "only showing top 5 rows\n",
      "\n"
     ]
    }
   ],
   "source": [
    "df_cal.show(5)"
   ]
  },
  {
   "cell_type": "code",
   "execution_count": 41,
   "metadata": {
    "application/vnd.databricks.v1+cell": {
     "cellMetadata": {
      "byteLimit": 2048000,
      "rowLimit": 10000
     },
     "inputWidgets": {},
     "nuid": "5e3de80d-25d9-465f-bec2-f55b8205590d",
     "showTitle": false,
     "title": ""
    }
   },
   "outputs": [],
   "source": [
    "df_cal = df_cal.withColumn('Month',month(col('Date')))\\\n",
    "            .withColumn('Year',year(col('Date')))"
   ]
  },
  {
   "cell_type": "markdown",
   "metadata": {
    "application/vnd.databricks.v1+cell": {
     "cellMetadata": {},
     "inputWidgets": {},
     "nuid": "bc9b4d83-060c-458b-9280-065f630fdf4e",
     "showTitle": false,
     "title": ""
    }
   },
   "source": [
    "#### Customers"
   ]
  },
  {
   "cell_type": "code",
   "execution_count": 47,
   "metadata": {
    "application/vnd.databricks.v1+cell": {
     "cellMetadata": {
      "byteLimit": 2048000,
      "rowLimit": 10000
     },
     "inputWidgets": {},
     "nuid": "fd40170d-3091-4412-b897-b6e848f109ef",
     "showTitle": false,
     "title": ""
    }
   },
   "outputs": [
    {
     "name": "stdout",
     "output_type": "stream",
     "text": [
      "+-----------+------+---------+--------+---------+-------------+------+--------------------+------------+-------------+--------------+------------+---------+\n",
      "|CustomerKey|Prefix|FirstName|LastName|BirthDate|MaritalStatus|Gender|        EmailAddress|AnnualIncome|TotalChildren|EducationLevel|  Occupation|HomeOwner|\n",
      "+-----------+------+---------+--------+---------+-------------+------+--------------------+------------+-------------+--------------+------------+---------+\n",
      "|      11000|   MR.|      JON|    YANG| 4/8/1966|            M|     M|jon24@adventure-w...|    $90,000 |            2|     Bachelors|Professional|        Y|\n",
      "|      11001|   MR.|   EUGENE|   HUANG|5/14/1965|            S|     M|eugene10@adventur...|    $60,000 |            3|     Bachelors|Professional|        N|\n",
      "|      11002|   MR.|    RUBEN|  TORRES|8/12/1965|            M|     M|ruben35@adventure...|    $60,000 |            3|     Bachelors|Professional|        Y|\n",
      "|      11003|   MS.|  CHRISTY|     ZHU|2/15/1968|            S|     F|christy12@adventu...|    $70,000 |            0|     Bachelors|Professional|        N|\n",
      "|      11004|  MRS.|ELIZABETH| JOHNSON| 8/8/1968|            S|     F|elizabeth5@advent...|    $80,000 |            5|     Bachelors|Professional|        Y|\n",
      "+-----------+------+---------+--------+---------+-------------+------+--------------------+------------+-------------+--------------+------------+---------+\n",
      "only showing top 5 rows\n",
      "\n"
     ]
    }
   ],
   "source": [
    "df_cus.show(5)"
   ]
  },
  {
   "cell_type": "code",
   "execution_count": 49,
   "metadata": {
    "application/vnd.databricks.v1+cell": {
     "cellMetadata": {
      "byteLimit": 2048000,
      "rowLimit": 10000
     },
     "inputWidgets": {},
     "nuid": "2151afcc-faba-42ea-9f1c-b92cae243232",
     "showTitle": false,
     "title": ""
    }
   },
   "outputs": [
    {
     "name": "stdout",
     "output_type": "stream",
     "text": [
      "+-----------+------+---------+--------+---------+-------------+------+--------------------+------------+-------------+--------------+------------+---------+--------------------+\n",
      "|CustomerKey|Prefix|FirstName|LastName|BirthDate|MaritalStatus|Gender|        EmailAddress|AnnualIncome|TotalChildren|EducationLevel|  Occupation|HomeOwner|            fullName|\n",
      "+-----------+------+---------+--------+---------+-------------+------+--------------------+------------+-------------+--------------+------------+---------+--------------------+\n",
      "|      11000|   MR.|      JON|    YANG| 4/8/1966|            M|     M|jon24@adventure-w...|    $90,000 |            2|     Bachelors|Professional|        Y|        MR. JON YANG|\n",
      "|      11001|   MR.|   EUGENE|   HUANG|5/14/1965|            S|     M|eugene10@adventur...|    $60,000 |            3|     Bachelors|Professional|        N|    MR. EUGENE HUANG|\n",
      "|      11002|   MR.|    RUBEN|  TORRES|8/12/1965|            M|     M|ruben35@adventure...|    $60,000 |            3|     Bachelors|Professional|        Y|    MR. RUBEN TORRES|\n",
      "|      11003|   MS.|  CHRISTY|     ZHU|2/15/1968|            S|     F|christy12@adventu...|    $70,000 |            0|     Bachelors|Professional|        N|     MS. CHRISTY ZHU|\n",
      "|      11004|  MRS.|ELIZABETH| JOHNSON| 8/8/1968|            S|     F|elizabeth5@advent...|    $80,000 |            5|     Bachelors|Professional|        Y|MRS. ELIZABETH JO...|\n",
      "+-----------+------+---------+--------+---------+-------------+------+--------------------+------------+-------------+--------------+------------+---------+--------------------+\n",
      "only showing top 5 rows\n",
      "\n"
     ]
    }
   ],
   "source": [
    "df_cus.withColumn(\"fullName\",concat(col('Prefix'),lit(' '),col('FirstName'),lit(' '),col('LastName'))).show(5)"
   ]
  },
  {
   "cell_type": "code",
   "execution_count": 51,
   "metadata": {
    "application/vnd.databricks.v1+cell": {
     "cellMetadata": {
      "byteLimit": 2048000,
      "rowLimit": 10000
     },
     "inputWidgets": {},
     "nuid": "bdb0cb73-4b5d-491f-8347-1fbe1b4ece52",
     "showTitle": false,
     "title": ""
    }
   },
   "outputs": [],
   "source": [
    "df_cus = df_cus.withColumn('fullName',concat_ws(' ',col('Prefix'),col('FirstName'),col('lastName')))"
   ]
  },
  {
   "cell_type": "code",
   "execution_count": 52,
   "metadata": {
    "application/vnd.databricks.v1+cell": {
     "cellMetadata": {
      "byteLimit": 2048000,
      "rowLimit": 10000
     },
     "inputWidgets": {},
     "nuid": "a46b7878-8081-4677-a063-63101bedff56",
     "showTitle": false,
     "title": ""
    }
   },
   "outputs": [
    {
     "name": "stdout",
     "output_type": "stream",
     "text": [
      "+-----------+------+---------+--------+---------+-------------+------+--------------------+------------+-------------+--------------+------------+---------+--------------------+\n",
      "|CustomerKey|Prefix|FirstName|LastName|BirthDate|MaritalStatus|Gender|        EmailAddress|AnnualIncome|TotalChildren|EducationLevel|  Occupation|HomeOwner|            fullName|\n",
      "+-----------+------+---------+--------+---------+-------------+------+--------------------+------------+-------------+--------------+------------+---------+--------------------+\n",
      "|      11000|   MR.|      JON|    YANG| 4/8/1966|            M|     M|jon24@adventure-w...|    $90,000 |            2|     Bachelors|Professional|        Y|        MR. JON YANG|\n",
      "|      11001|   MR.|   EUGENE|   HUANG|5/14/1965|            S|     M|eugene10@adventur...|    $60,000 |            3|     Bachelors|Professional|        N|    MR. EUGENE HUANG|\n",
      "|      11002|   MR.|    RUBEN|  TORRES|8/12/1965|            M|     M|ruben35@adventure...|    $60,000 |            3|     Bachelors|Professional|        Y|    MR. RUBEN TORRES|\n",
      "|      11003|   MS.|  CHRISTY|     ZHU|2/15/1968|            S|     F|christy12@adventu...|    $70,000 |            0|     Bachelors|Professional|        N|     MS. CHRISTY ZHU|\n",
      "|      11004|  MRS.|ELIZABETH| JOHNSON| 8/8/1968|            S|     F|elizabeth5@advent...|    $80,000 |            5|     Bachelors|Professional|        Y|MRS. ELIZABETH JO...|\n",
      "+-----------+------+---------+--------+---------+-------------+------+--------------------+------------+-------------+--------------+------------+---------+--------------------+\n",
      "only showing top 5 rows\n",
      "\n"
     ]
    }
   ],
   "source": [
    "df_cus.show(5)"
   ]
  },
  {
   "cell_type": "markdown",
   "metadata": {
    "application/vnd.databricks.v1+cell": {
     "cellMetadata": {},
     "inputWidgets": {},
     "nuid": "f0693ef4-5177-428c-ae4c-d58d53cca24c",
     "showTitle": false,
     "title": ""
    }
   },
   "source": [
    "#### Sub Categories"
   ]
  },
  {
   "cell_type": "code",
   "execution_count": 54,
   "metadata": {
    "application/vnd.databricks.v1+cell": {
     "cellMetadata": {
      "byteLimit": 2048000,
      "rowLimit": 10000
     },
     "inputWidgets": {},
     "nuid": "aae179ce-81e3-44f9-8b00-68db58bed81a",
     "showTitle": false,
     "title": ""
    }
   },
   "outputs": [
    {
     "name": "stdout",
     "output_type": "stream",
     "text": [
      "+---------------------+---------------+------------------+\n",
      "|ProductSubcategoryKey|SubcategoryName|ProductCategoryKey|\n",
      "+---------------------+---------------+------------------+\n",
      "|                    1| Mountain Bikes|                 1|\n",
      "|                    2|     Road Bikes|                 1|\n",
      "|                    3|  Touring Bikes|                 1|\n",
      "|                    4|     Handlebars|                 2|\n",
      "|                    5|Bottom Brackets|                 2|\n",
      "+---------------------+---------------+------------------+\n",
      "only showing top 5 rows\n",
      "\n"
     ]
    }
   ],
   "source": [
    "df_subcat.show(5)"
   ]
  },
  {
   "cell_type": "markdown",
   "metadata": {
    "application/vnd.databricks.v1+cell": {
     "cellMetadata": {},
     "inputWidgets": {},
     "nuid": "ffdd10e8-b14c-4db6-b132-5f9be605b51a",
     "showTitle": false,
     "title": ""
    }
   },
   "source": [
    "#### Products"
   ]
  },
  {
   "cell_type": "code",
   "execution_count": 57,
   "metadata": {
    "application/vnd.databricks.v1+cell": {
     "cellMetadata": {
      "byteLimit": 2048000,
      "rowLimit": 10000
     },
     "inputWidgets": {},
     "nuid": "3b16fd73-9d58-4500-bc29-5cdc25572203",
     "showTitle": false,
     "title": ""
    }
   },
   "outputs": [
    {
     "name": "stdout",
     "output_type": "stream",
     "text": [
      "+----------+---------------------+----------+--------------------+-------------------+--------------------+------------+-----------+------------+-----------+------------+\n",
      "|ProductKey|ProductSubcategoryKey|ProductSKU|         ProductName|          ModelName|  ProductDescription|ProductColor|ProductSize|ProductStyle|ProductCost|ProductPrice|\n",
      "+----------+---------------------+----------+--------------------+-------------------+--------------------+------------+-----------+------------+-----------+------------+\n",
      "|       214|                   31| HL-U509-R|Sport-100 Helmet,...|          Sport-100|Universal fit, we...|         Red|          0|           0|    13.0863|       34.99|\n",
      "|       215|                   31|   HL-U509|Sport-100 Helmet,...|          Sport-100|Universal fit, we...|       Black|          0|           0|    12.0278|     33.6442|\n",
      "|       218|                   23| SO-B909-M|Mountain Bike Soc...|Mountain Bike Socks|Combination of na...|       White|          M|           U|     3.3963|         9.5|\n",
      "|       219|                   23| SO-B909-L|Mountain Bike Soc...|Mountain Bike Socks|Combination of na...|       White|          L|           U|     3.3963|         9.5|\n",
      "|       220|                   31| HL-U509-B|Sport-100 Helmet,...|          Sport-100|Universal fit, we...|        Blue|          0|           0|    12.0278|     33.6442|\n",
      "+----------+---------------------+----------+--------------------+-------------------+--------------------+------------+-----------+------------+-----------+------------+\n",
      "only showing top 5 rows\n",
      "\n"
     ]
    }
   ],
   "source": [
    "df_pro.show(5)"
   ]
  },
  {
   "cell_type": "code",
   "execution_count": 58,
   "metadata": {
    "application/vnd.databricks.v1+cell": {
     "cellMetadata": {
      "byteLimit": 2048000,
      "rowLimit": 10000
     },
     "inputWidgets": {},
     "nuid": "5e92beda-a6c2-4486-af96-55b2899cdcec",
     "showTitle": false,
     "title": ""
    }
   },
   "outputs": [],
   "source": [
    "df_pro = df_pro.withColumn('ProductSKU',split(col('ProductSKU'),'-')[0])\\\n",
    "                .withColumn('ProductName',split(col('ProductName'),' ')[0])"
   ]
  },
  {
   "cell_type": "code",
   "execution_count": 59,
   "metadata": {
    "application/vnd.databricks.v1+cell": {
     "cellMetadata": {
      "byteLimit": 2048000,
      "rowLimit": 10000
     },
     "inputWidgets": {},
     "nuid": "c039023d-8965-483c-8a3b-b0ef111846c1",
     "showTitle": false,
     "title": ""
    }
   },
   "outputs": [
    {
     "name": "stdout",
     "output_type": "stream",
     "text": [
      "+----------+---------------------+----------+-----------+-------------------+--------------------+------------+-----------+------------+-----------+------------+\n",
      "|ProductKey|ProductSubcategoryKey|ProductSKU|ProductName|          ModelName|  ProductDescription|ProductColor|ProductSize|ProductStyle|ProductCost|ProductPrice|\n",
      "+----------+---------------------+----------+-----------+-------------------+--------------------+------------+-----------+------------+-----------+------------+\n",
      "|       214|                   31|        HL|  Sport-100|          Sport-100|Universal fit, we...|         Red|          0|           0|    13.0863|       34.99|\n",
      "|       215|                   31|        HL|  Sport-100|          Sport-100|Universal fit, we...|       Black|          0|           0|    12.0278|     33.6442|\n",
      "|       218|                   23|        SO|   Mountain|Mountain Bike Socks|Combination of na...|       White|          M|           U|     3.3963|         9.5|\n",
      "|       219|                   23|        SO|   Mountain|Mountain Bike Socks|Combination of na...|       White|          L|           U|     3.3963|         9.5|\n",
      "|       220|                   31|        HL|  Sport-100|          Sport-100|Universal fit, we...|        Blue|          0|           0|    12.0278|     33.6442|\n",
      "+----------+---------------------+----------+-----------+-------------------+--------------------+------------+-----------+------------+-----------+------------+\n",
      "only showing top 5 rows\n",
      "\n"
     ]
    }
   ],
   "source": [
    "df_pro.show(5)"
   ]
  },
  {
   "cell_type": "markdown",
   "metadata": {
    "application/vnd.databricks.v1+cell": {
     "cellMetadata": {},
     "inputWidgets": {},
     "nuid": "4110fc59-2138-43d2-81b0-43baebee70f5",
     "showTitle": false,
     "title": ""
    }
   },
   "source": [
    "#### Returns"
   ]
  },
  {
   "cell_type": "code",
   "execution_count": 61,
   "metadata": {
    "application/vnd.databricks.v1+cell": {
     "cellMetadata": {
      "byteLimit": 2048000,
      "rowLimit": 10000
     },
     "inputWidgets": {},
     "nuid": "7fad3a81-69f7-4061-90de-76cee3e0ffd1",
     "showTitle": false,
     "title": ""
    }
   },
   "outputs": [
    {
     "name": "stdout",
     "output_type": "stream",
     "text": [
      "+----------+------------+----------+--------------+\n",
      "|ReturnDate|TerritoryKey|ProductKey|ReturnQuantity|\n",
      "+----------+------------+----------+--------------+\n",
      "| 1/18/2015|           9|       312|             1|\n",
      "| 1/18/2015|          10|       310|             1|\n",
      "| 1/21/2015|           8|       346|             1|\n",
      "| 1/22/2015|           4|       311|             1|\n",
      "|  2/2/2015|           6|       312|             1|\n",
      "+----------+------------+----------+--------------+\n",
      "only showing top 5 rows\n",
      "\n"
     ]
    }
   ],
   "source": [
    "df_ret.show(5)"
   ]
  },
  {
   "cell_type": "markdown",
   "metadata": {
    "application/vnd.databricks.v1+cell": {
     "cellMetadata": {},
     "inputWidgets": {},
     "nuid": "e324d0dd-6d49-4592-a268-01c95163a563",
     "showTitle": false,
     "title": ""
    }
   },
   "source": [
    "#### Territories"
   ]
  },
  {
   "cell_type": "code",
   "execution_count": 63,
   "metadata": {
    "application/vnd.databricks.v1+cell": {
     "cellMetadata": {
      "byteLimit": 2048000,
      "rowLimit": 10000
     },
     "inputWidgets": {},
     "nuid": "6dfce9ce-d1ec-4490-9f86-db18411514e4",
     "showTitle": false,
     "title": ""
    }
   },
   "outputs": [
    {
     "name": "stdout",
     "output_type": "stream",
     "text": [
      "+-----------------+---------+-------------+-------------+\n",
      "|SalesTerritoryKey|   Region|      Country|    Continent|\n",
      "+-----------------+---------+-------------+-------------+\n",
      "|                1|Northwest|United States|North America|\n",
      "|                2|Northeast|United States|North America|\n",
      "|                3|  Central|United States|North America|\n",
      "|                4|Southwest|United States|North America|\n",
      "|                5|Southeast|United States|North America|\n",
      "+-----------------+---------+-------------+-------------+\n",
      "only showing top 5 rows\n",
      "\n"
     ]
    }
   ],
   "source": [
    "df_ter.show(5)"
   ]
  },
  {
   "cell_type": "markdown",
   "metadata": {
    "application/vnd.databricks.v1+cell": {
     "cellMetadata": {},
     "inputWidgets": {},
     "nuid": "69f5f723-e22d-4673-b642-1fa5c2f55011",
     "showTitle": false,
     "title": ""
    }
   },
   "source": [
    "#### Sales"
   ]
  },
  {
   "cell_type": "code",
   "execution_count": 64,
   "metadata": {
    "application/vnd.databricks.v1+cell": {
     "cellMetadata": {
      "byteLimit": 2048000,
      "rowLimit": 10000
     },
     "inputWidgets": {},
     "nuid": "5a6c6e1a-6afd-4adb-9c54-b4257ec15bfd",
     "showTitle": false,
     "title": ""
    }
   },
   "outputs": [
    {
     "name": "stdout",
     "output_type": "stream",
     "text": [
      "+---------+----------+-----------+----------+-----------+------------+-------------+-------------+\n",
      "|OrderDate| StockDate|OrderNumber|ProductKey|CustomerKey|TerritoryKey|OrderLineItem|OrderQuantity|\n",
      "+---------+----------+-----------+----------+-----------+------------+-------------+-------------+\n",
      "| 1/1/2015| 9/21/2001|    SO45080|       332|      14657|           1|            1|            1|\n",
      "| 1/1/2015| 12/5/2001|    SO45079|       312|      29255|           4|            1|            1|\n",
      "| 1/1/2015|10/29/2001|    SO45082|       350|      11455|           9|            1|            1|\n",
      "| 1/1/2015|11/16/2001|    SO45081|       338|      26782|           6|            1|            1|\n",
      "| 1/2/2015|12/15/2001|    SO45083|       312|      14947|          10|            1|            1|\n",
      "+---------+----------+-----------+----------+-----------+------------+-------------+-------------+\n",
      "only showing top 5 rows\n",
      "\n"
     ]
    }
   ],
   "source": [
    "df_sales2015.show(5)"
   ]
  },
  {
   "cell_type": "code",
   "execution_count": 65,
   "metadata": {
    "application/vnd.databricks.v1+cell": {
     "cellMetadata": {
      "byteLimit": 2048000,
      "rowLimit": 10000
     },
     "inputWidgets": {},
     "nuid": "2b7e89a7-720d-4db8-9706-63bb5582bfea",
     "showTitle": false,
     "title": ""
    }
   },
   "outputs": [],
   "source": [
    "df_sales2015 = df_sales2015.withColumn('StockDate',to_timestamp('StockDate'))"
   ]
  },
  {
   "cell_type": "code",
   "execution_count": 68,
   "metadata": {
    "application/vnd.databricks.v1+cell": {
     "cellMetadata": {
      "byteLimit": 2048000,
      "rowLimit": 10000
     },
     "inputWidgets": {},
     "nuid": "3261923e-a091-441a-9c88-6ce20533e728",
     "showTitle": false,
     "title": ""
    }
   },
   "outputs": [],
   "source": [
    "df_sales2015 = df_sales2015.withColumn('OrderNumber',regexp_replace(col('OrderNumber'),'S','T'))"
   ]
  },
  {
   "cell_type": "code",
   "execution_count": 69,
   "metadata": {
    "application/vnd.databricks.v1+cell": {
     "cellMetadata": {
      "byteLimit": 2048000,
      "rowLimit": 10000
     },
     "inputWidgets": {},
     "nuid": "ed7f27b6-47c3-4a85-b25b-572e9af7d282",
     "showTitle": false,
     "title": ""
    }
   },
   "outputs": [],
   "source": [
    "df_sales2015 = df_sales2015.withColumn('multiply',col('OrderLineItem')*col('OrderQuantity'))"
   ]
  },
  {
   "cell_type": "code",
   "execution_count": 71,
   "metadata": {
    "application/vnd.databricks.v1+cell": {
     "cellMetadata": {
      "byteLimit": 2048000,
      "rowLimit": 10000
     },
     "inputWidgets": {},
     "nuid": "0b209ec2-6a56-46c9-a121-ecb384d7d60c",
     "showTitle": false,
     "title": ""
    }
   },
   "outputs": [
    {
     "name": "stdout",
     "output_type": "stream",
     "text": [
      "+---------+---------+-----------+----------+-----------+------------+-------------+-------------+--------+\n",
      "|OrderDate|StockDate|OrderNumber|ProductKey|CustomerKey|TerritoryKey|OrderLineItem|OrderQuantity|multiply|\n",
      "+---------+---------+-----------+----------+-----------+------------+-------------+-------------+--------+\n",
      "| 1/1/2015|     null|    TO45080|       332|      14657|           1|            1|            1|     1.0|\n",
      "| 1/1/2015|     null|    TO45079|       312|      29255|           4|            1|            1|     1.0|\n",
      "| 1/1/2015|     null|    TO45082|       350|      11455|           9|            1|            1|     1.0|\n",
      "| 1/1/2015|     null|    TO45081|       338|      26782|           6|            1|            1|     1.0|\n",
      "| 1/2/2015|     null|    TO45083|       312|      14947|          10|            1|            1|     1.0|\n",
      "+---------+---------+-----------+----------+-----------+------------+-------------+-------------+--------+\n",
      "only showing top 5 rows\n",
      "\n"
     ]
    }
   ],
   "source": [
    "df_sales2015.show(5)"
   ]
  },
  {
   "cell_type": "markdown",
   "metadata": {
    "application/vnd.databricks.v1+cell": {
     "cellMetadata": {},
     "inputWidgets": {},
     "nuid": "822d269f-4648-4228-b27b-b2cdf64544f7",
     "showTitle": false,
     "title": ""
    }
   },
   "source": [
    "#### Sales Analysis"
   ]
  },
  {
   "cell_type": "code",
   "execution_count": 72,
   "metadata": {
    "application/vnd.databricks.v1+cell": {
     "cellMetadata": {
      "byteLimit": 2048000,
      "rowLimit": 10000
     },
     "inputWidgets": {},
     "nuid": "58743dea-b6e1-40bb-a144-c278aa90dbe3",
     "showTitle": false,
     "title": ""
    }
   },
   "outputs": [
    {
     "name": "stdout",
     "output_type": "stream",
     "text": [
      "+----------+-----------+\n",
      "| OrderDate|total_order|\n",
      "+----------+-----------+\n",
      "| 2/27/2015|          3|\n",
      "|11/14/2015|          5|\n",
      "| 1/15/2015|          7|\n",
      "| 8/31/2015|         12|\n",
      "|11/26/2015|          6|\n",
      "+----------+-----------+\n",
      "only showing top 5 rows\n",
      "\n"
     ]
    }
   ],
   "source": [
    "df_sales2015.groupBy('OrderDate').agg(count('OrderNumber').alias('total_order')).show(5)"
   ]
  },
  {
   "cell_type": "code",
   "execution_count": 75,
   "metadata": {
    "application/vnd.databricks.v1+cell": {
     "cellMetadata": {
      "byteLimit": 2048000,
      "rowLimit": 10000
     },
     "inputWidgets": {},
     "nuid": "bea25265-dbc1-48d8-9cf7-1ac585c1c535",
     "showTitle": false,
     "title": ""
    }
   },
   "outputs": [
    {
     "name": "stdout",
     "output_type": "stream",
     "text": [
      "+------------------+------------+\n",
      "|ProductCategoryKey|CategoryName|\n",
      "+------------------+------------+\n",
      "|                 1|       Bikes|\n",
      "|                 2|  Components|\n",
      "|                 3|    Clothing|\n",
      "|                 4| Accessories|\n",
      "+------------------+------------+\n",
      "\n"
     ]
    }
   ],
   "source": [
    "df_procat.show(5)"
   ]
  },
  {
   "cell_type": "code",
   "execution_count": 76,
   "metadata": {
    "application/vnd.databricks.v1+cell": {
     "cellMetadata": {
      "byteLimit": 2048000,
      "rowLimit": 10000
     },
     "inputWidgets": {},
     "nuid": "91074724-4621-4ff0-a79a-af8551107d00",
     "showTitle": false,
     "title": ""
    }
   },
   "outputs": [
    {
     "name": "stdout",
     "output_type": "stream",
     "text": [
      "+-----------------+---------+-------------+-------------+\n",
      "|SalesTerritoryKey|   Region|      Country|    Continent|\n",
      "+-----------------+---------+-------------+-------------+\n",
      "|                1|Northwest|United States|North America|\n",
      "|                2|Northeast|United States|North America|\n",
      "|                3|  Central|United States|North America|\n",
      "|                4|Southwest|United States|North America|\n",
      "|                5|Southeast|United States|North America|\n",
      "+-----------------+---------+-------------+-------------+\n",
      "only showing top 5 rows\n",
      "\n"
     ]
    }
   ],
   "source": [
    "df_ter.show(5)"
   ]
  },
  {
   "cell_type": "code",
   "execution_count": null,
   "metadata": {
    "application/vnd.databricks.v1+cell": {
     "cellMetadata": {},
     "inputWidgets": {},
     "nuid": "fe247436-33a8-441a-9b99-824cedb55506",
     "showTitle": false,
     "title": ""
    }
   },
   "outputs": [],
   "source": []
  }
 ],
 "metadata": {
  "application/vnd.databricks.v1+notebook": {
   "dashboards": [],
   "environmentMetadata": null,
   "language": "python",
   "notebookMetadata": {
    "pythonIndentUnit": 4
   },
   "notebookName": "silver_layer_refer",
   "widgets": {}
  },
  "kernelspec": {
   "display_name": "Python 3 (ipykernel)",
   "language": "python",
   "name": "python3"
  },
  "language_info": {
   "codemirror_mode": {
    "name": "ipython",
    "version": 3
   },
   "file_extension": ".py",
   "mimetype": "text/x-python",
   "name": "python",
   "nbconvert_exporter": "python",
   "pygments_lexer": "ipython3",
   "version": "3.11.7"
  }
 },
 "nbformat": 4,
 "nbformat_minor": 4
}
